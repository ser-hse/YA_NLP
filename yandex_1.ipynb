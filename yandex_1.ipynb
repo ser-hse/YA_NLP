{
 "cells": [
  {
   "cell_type": "code",
   "execution_count": null,
   "id": "445bb608",
   "metadata": {},
   "outputs": [
    {
     "name": "stdout",
     "output_type": "stream",
     "text": [
      "Python: 3.12.3 (main, Jun 18 2025, 17:59:45) [GCC 13.3.0]\n",
      "Torch: 2.8.0+cu128\n",
      "CUDA available: True\n",
      "CUDA device: NVIDIA GeForce RTX 4090\n"
     ]
    }
   ],
   "source": [
    "import sys\n",
    "import torch\n",
    "\n",
    "print(\"Python:\", sys.version)\n",
    "print(\"Torch:\", torch.__version__)\n",
    "print(\"CUDA available:\", torch.cuda.is_available())\n",
    "print(\"CUDA device:\", torch.cuda.get_device_name(0) if torch.cuda.is_available() else \"CPU only\")"
   ]
  },
  {
   "cell_type": "code",
   "execution_count": 2,
   "id": "355a1ab4",
   "metadata": {},
   "outputs": [
    {
     "name": "stdout",
     "output_type": "stream",
     "text": [
      "Package                  Version\n",
      "------------------------ -----------\n",
      "accelerate               1.10.1\n",
      "aiohappyeyeballs         2.6.1\n",
      "aiohttp                  3.12.15\n",
      "aiosignal                1.4.0\n",
      "asttokens                3.0.0\n",
      "attrs                    25.3.0\n",
      "bertviz                  1.4.1\n",
      "boto3                    1.40.27\n",
      "botocore                 1.40.27\n",
      "certifi                  2025.8.3\n",
      "charset-normalizer       3.4.3\n",
      "click                    8.2.1\n",
      "comm                     0.2.3\n",
      "contourpy                1.3.3\n",
      "corus                    0.10.0\n",
      "cycler                   0.12.1\n",
      "datasets                 4.0.0\n",
      "debugpy                  1.8.16\n",
      "decorator                5.2.1\n",
      "dill                     0.3.8\n",
      "executing                2.2.1\n",
      "filelock                 3.19.1\n",
      "fonttools                4.59.2\n",
      "frozenlist               1.7.0\n",
      "fsspec                   2025.3.0\n",
      "hf-xet                   1.1.9\n",
      "huggingface-hub          0.34.4\n",
      "idna                     3.10\n",
      "ipykernel                6.30.1\n",
      "ipython                  9.5.0\n",
      "ipython_pygments_lexers  1.1.1\n",
      "jedi                     0.19.2\n",
      "Jinja2                   3.1.6\n",
      "jmespath                 1.0.1\n",
      "joblib                   1.5.2\n",
      "jupyter_client           8.6.3\n",
      "jupyter_core             5.8.1\n",
      "kiwisolver               1.4.9\n",
      "lightning                2.5.5\n",
      "lightning-utilities      0.15.2\n",
      "MarkupSafe               3.0.2\n",
      "matplotlib               3.10.6\n",
      "matplotlib-inline        0.1.7\n",
      "mpmath                   1.3.0\n",
      "multidict                6.6.4\n",
      "multiprocess             0.70.16\n",
      "nest-asyncio             1.6.0\n",
      "networkx                 3.5\n",
      "nltk                     3.9.1\n",
      "numpy                    2.3.3\n",
      "nvidia-cublas-cu12       12.8.4.1\n",
      "nvidia-cuda-cupti-cu12   12.8.90\n",
      "nvidia-cuda-nvrtc-cu12   12.8.93\n",
      "nvidia-cuda-runtime-cu12 12.8.90\n",
      "nvidia-cudnn-cu12        9.10.2.21\n",
      "nvidia-cufft-cu12        11.3.3.83\n",
      "nvidia-cufile-cu12       1.13.1.3\n",
      "nvidia-curand-cu12       10.3.9.90\n",
      "nvidia-cusolver-cu12     11.7.3.90\n",
      "nvidia-cusparse-cu12     12.5.8.93\n",
      "nvidia-cusparselt-cu12   0.7.1\n",
      "nvidia-nccl-cu12         2.27.3\n",
      "nvidia-nvjitlink-cu12    12.8.93\n",
      "nvidia-nvtx-cu12         12.8.90\n",
      "packaging                25.0\n",
      "pandas                   2.3.2\n",
      "parso                    0.8.5\n",
      "pexpect                  4.9.0\n",
      "pillow                   11.3.0\n",
      "pip                      25.2\n",
      "platformdirs             4.4.0\n",
      "prompt_toolkit           3.0.52\n",
      "propcache                0.3.2\n",
      "protobuf                 6.32.0\n",
      "psutil                   7.0.0\n",
      "ptyprocess               0.7.0\n",
      "pure_eval                0.2.3\n",
      "pyarrow                  21.0.0\n",
      "Pygments                 2.19.2\n",
      "pyparsing                3.2.3\n",
      "python-dateutil          2.9.0.post0\n",
      "pytorch-lightning        2.5.5\n",
      "pytz                     2025.2\n",
      "PyYAML                   6.0.2\n",
      "pyzmq                    27.1.0\n",
      "regex                    2025.9.1\n",
      "requests                 2.32.5\n",
      "s3transfer               0.14.0\n",
      "safetensors              0.6.2\n",
      "scikit-learn             1.7.2\n",
      "scipy                    1.16.1\n",
      "sentencepiece            0.2.1\n",
      "setuptools               80.9.0\n",
      "six                      1.17.0\n",
      "stack-data               0.6.3\n",
      "sympy                    1.14.0\n",
      "threadpoolctl            3.6.0\n",
      "tokenizers               0.22.0\n",
      "torch                    2.8.0\n",
      "torchmetrics             1.8.2\n",
      "tornado                  6.5.2\n",
      "tqdm                     4.67.1\n",
      "traitlets                5.14.3\n",
      "transformers             4.56.1\n",
      "triton                   3.4.0\n",
      "typing_extensions        4.15.0\n",
      "tzdata                   2025.2\n",
      "urllib3                  2.5.0\n",
      "wcwidth                  0.2.13\n",
      "xxhash                   3.5.0\n",
      "yarl                     1.20.1\n"
     ]
    }
   ],
   "source": [
    "!pip list"
   ]
  },
  {
   "cell_type": "code",
   "execution_count": 3,
   "id": "740febba",
   "metadata": {},
   "outputs": [
    {
     "name": "stdout",
     "output_type": "stream",
     "text": [
      "accelerate               1.10.1\n",
      "bertviz                  1.4.1\n",
      "corus                    0.10.0\n",
      "datasets                 4.0.0\n",
      "lightning                2.5.5\n",
      "lightning-utilities      0.15.2\n",
      "matplotlib               3.10.6\n",
      "matplotlib-inline        0.1.7\n",
      "nltk                     3.9.1\n",
      "numpy                    2.3.3\n",
      "protobuf                 6.32.0\n",
      "pytorch-lightning        2.5.5\n",
      "scikit-learn             1.7.2\n",
      "sentencepiece            0.2.1\n",
      "torch                    2.8.0\n",
      "torchmetrics             1.8.2\n",
      "tqdm                     4.67.1\n",
      "transformers             4.56.1\n"
     ]
    }
   ],
   "source": [
    "!pip list | egrep \"torch|transformers|datasets|matplotlib|numpy|tqdm|nltk|bertviz|lightning|sentencepiece|protobuf|accelerate|scikit-learn|corus\"\n"
   ]
  },
  {
   "cell_type": "code",
   "execution_count": 4,
   "id": "1e962048",
   "metadata": {},
   "outputs": [
    {
     "name": "stdout",
     "output_type": "stream",
     "text": [
      "True\n",
      "NVIDIA GeForce RTX 4090\n"
     ]
    }
   ],
   "source": [
    "import torch\n",
    "print(torch.cuda.is_available())\n",
    "print(torch.cuda.get_device_name(0))\n"
   ]
  },
  {
   "cell_type": "code",
   "execution_count": null,
   "id": "b020235d",
   "metadata": {},
   "outputs": [],
   "source": [
    "New_line"
   ]
  }
 ],
 "metadata": {
  "kernelspec": {
   "display_name": ".venv",
   "language": "python",
   "name": "python3"
  },
  "language_info": {
   "codemirror_mode": {
    "name": "ipython",
    "version": 3
   },
   "file_extension": ".py",
   "mimetype": "text/x-python",
   "name": "python",
   "nbconvert_exporter": "python",
   "pygments_lexer": "ipython3",
   "version": "3.12.3"
  }
 },
 "nbformat": 4,
 "nbformat_minor": 5
}
